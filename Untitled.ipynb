{
 "cells": [
  {
   "cell_type": "code",
   "execution_count": 4,
   "id": "64afa8b5-2e48-456e-921b-e1007e68120c",
   "metadata": {},
   "outputs": [
    {
     "name": "stdout",
     "output_type": "stream",
     "text": [
      "Collecting typing-extensions==4.0.1\n",
      "  Downloading typing_extensions-4.0.1-py3-none-any.whl (22 kB)\n",
      "Installing collected packages: typing-extensions\n",
      "  Attempting uninstall: typing-extensions\n",
      "    Found existing installation: typing-extensions 3.7.4.1\n",
      "    Uninstalling typing-extensions-3.7.4.1:\n",
      "      Successfully uninstalled typing-extensions-3.7.4.1\n",
      "Successfully installed typing-extensions-4.0.1\n",
      "Note: you may need to restart the kernel to use updated packages.\n"
     ]
    },
    {
     "name": "stderr",
     "output_type": "stream",
     "text": [
      "ERROR: pip's dependency resolver does not currently take into account all the packages that are installed. This behaviour is the source of the following dependency conflicts.\n",
      "web3 5.17.0 requires typing-extensions<4,>=3.7.4.1; python_version < \"3.8\", but you have typing-extensions 4.0.1 which is incompatible.\n"
     ]
    }
   ],
   "source": [
    "pip install typing-extensions==4.0.1"
   ]
  },
  {
   "cell_type": "code",
   "execution_count": 7,
   "id": "83e14fc5-ec1b-46e5-91ad-2860b40312d9",
   "metadata": {},
   "outputs": [
    {
     "name": "stdout",
     "output_type": "stream",
     "text": [
      "Collecting web3==5.17\n",
      "  Using cached web3-5.17.0-py3-none-any.whl (469 kB)\n",
      "Collecting protobuf<4,>=3.10.0\n",
      "  Using cached protobuf-3.20.3-cp37-cp37m-win_amd64.whl (905 kB)\n",
      "Requirement already satisfied: lru-dict<2.0.0,>=1.1.6 in c:\\users\\owner\\anaconda3\\envs\\alpacaenv\\lib\\site-packages (from web3==5.17) (1.2.0)\n",
      "Requirement already satisfied: hexbytes<1.0.0,>=0.1.0 in c:\\users\\owner\\anaconda3\\envs\\alpacaenv\\lib\\site-packages (from web3==5.17) (0.3.1)\n",
      "Requirement already satisfied: websockets<9.0.0,>=8.1.0 in c:\\users\\owner\\anaconda3\\envs\\alpacaenv\\lib\\site-packages (from web3==5.17) (8.1)\n",
      "Requirement already satisfied: requests<3.0.0,>=2.16.0 in c:\\users\\owner\\anaconda3\\envs\\alpacaenv\\lib\\site-packages (from web3==5.17) (2.28.1)\n",
      "Collecting eth-abi<3.0.0,>=2.0.0b6\n",
      "  Using cached eth_abi-2.2.0-py3-none-any.whl (28 kB)\n",
      "Collecting eth-typing<3.0.0,>=2.0.0\n",
      "  Using cached eth_typing-2.3.0-py3-none-any.whl (6.2 kB)\n",
      "Requirement already satisfied: eth-hash[pycryptodome]<1.0.0,>=0.2.0 in c:\\users\\owner\\anaconda3\\envs\\alpacaenv\\lib\\site-packages (from web3==5.17) (0.5.2)\n",
      "Collecting eth-account<0.6.0,>=0.5.3\n",
      "  Using cached eth_account-0.5.9-py3-none-any.whl (101 kB)\n",
      "Collecting jsonschema<4.0.0,>=3.2.0\n",
      "  Using cached jsonschema-3.2.0-py2.py3-none-any.whl (56 kB)\n",
      "Requirement already satisfied: pypiwin32>=223 in c:\\users\\owner\\anaconda3\\envs\\alpacaenv\\lib\\site-packages (from web3==5.17) (223)\n",
      "Collecting eth-utils<2.0.0,>=1.9.5\n",
      "  Using cached eth_utils-1.10.0-py3-none-any.whl (24 kB)\n",
      "Requirement already satisfied: ipfshttpclient==0.7.0a1 in c:\\users\\owner\\anaconda3\\envs\\alpacaenv\\lib\\site-packages (from web3==5.17) (0.7.0a1)\n",
      "Requirement already satisfied: typing-extensions<4,>=3.7.4.1 in c:\\users\\owner\\anaconda3\\envs\\alpacaenv\\lib\\site-packages (from web3==5.17) (3.10.0.2)\n",
      "Requirement already satisfied: multiaddr>=0.0.7 in c:\\users\\owner\\anaconda3\\envs\\alpacaenv\\lib\\site-packages (from ipfshttpclient==0.7.0a1->web3==5.17) (0.0.9)\n",
      "Collecting parsimonious<0.9.0,>=0.8.0\n",
      "  Using cached parsimonious-0.8.1-py3-none-any.whl\n",
      "Collecting eth-keyfile<0.6.0,>=0.5.0\n",
      "  Using cached eth_keyfile-0.5.1-py3-none-any.whl (8.3 kB)\n",
      "Collecting eth-keys<0.4.0,>=0.3.4\n",
      "  Using cached eth_keys-0.3.4-py3-none-any.whl (21 kB)\n",
      "Requirement already satisfied: eth-rlp<2,>=0.1.2 in c:\\users\\owner\\anaconda3\\envs\\alpacaenv\\lib\\site-packages (from eth-account<0.6.0,>=0.5.3->web3==5.17) (0.3.0)\n",
      "Collecting rlp<3,>=1.0.0\n",
      "  Using cached rlp-2.0.1-py2.py3-none-any.whl (20 kB)\n",
      "Requirement already satisfied: bitarray<3,>=1.2.1 in c:\\users\\owner\\anaconda3\\envs\\alpacaenv\\lib\\site-packages (from eth-account<0.6.0,>=0.5.3->web3==5.17) (2.5.1)\n",
      "Requirement already satisfied: pycryptodome<4,>=3.6.6 in c:\\users\\owner\\anaconda3\\envs\\alpacaenv\\lib\\site-packages (from eth-hash[pycryptodome]<1.0.0,>=0.2.0->web3==5.17) (3.18.0)\n",
      "Collecting eth-utils<2.0.0,>=1.9.5\n",
      "  Using cached eth_utils-1.9.5-py3-none-any.whl (23 kB)\n",
      "Requirement already satisfied: cytoolz<1.0.0,>=0.10.1 in c:\\users\\owner\\anaconda3\\envs\\alpacaenv\\lib\\site-packages (from eth-utils<2.0.0,>=1.9.5->web3==5.17) (0.11.0)\n",
      "Requirement already satisfied: attrs>=17.4.0 in c:\\users\\owner\\anaconda3\\envs\\alpacaenv\\lib\\site-packages (from jsonschema<4.0.0,>=3.2.0->web3==5.17) (21.4.0)\n",
      "Requirement already satisfied: importlib-metadata in c:\\users\\owner\\anaconda3\\envs\\alpacaenv\\lib\\site-packages (from jsonschema<4.0.0,>=3.2.0->web3==5.17) (4.2.0)\n",
      "Requirement already satisfied: pyrsistent>=0.14.0 in c:\\users\\owner\\anaconda3\\envs\\alpacaenv\\lib\\site-packages (from jsonschema<4.0.0,>=3.2.0->web3==5.17) (0.18.0)\n",
      "Requirement already satisfied: six>=1.11.0 in c:\\users\\owner\\anaconda3\\envs\\alpacaenv\\lib\\site-packages (from jsonschema<4.0.0,>=3.2.0->web3==5.17) (1.16.0)\n",
      "Requirement already satisfied: setuptools in c:\\users\\owner\\anaconda3\\envs\\alpacaenv\\lib\\site-packages (from jsonschema<4.0.0,>=3.2.0->web3==5.17) (63.4.1)\n",
      "Requirement already satisfied: pywin32>=223 in c:\\users\\owner\\anaconda3\\envs\\alpacaenv\\lib\\site-packages (from pypiwin32>=223->web3==5.17) (302)\n",
      "Requirement already satisfied: charset-normalizer<3,>=2 in c:\\users\\owner\\anaconda3\\envs\\alpacaenv\\lib\\site-packages (from requests<3.0.0,>=2.16.0->web3==5.17) (2.0.4)\n",
      "Requirement already satisfied: idna<4,>=2.5 in c:\\users\\owner\\anaconda3\\envs\\alpacaenv\\lib\\site-packages (from requests<3.0.0,>=2.16.0->web3==5.17) (3.3)\n",
      "Requirement already satisfied: urllib3<1.27,>=1.21.1 in c:\\users\\owner\\anaconda3\\envs\\alpacaenv\\lib\\site-packages (from requests<3.0.0,>=2.16.0->web3==5.17) (1.26.11)\n",
      "Requirement already satisfied: certifi>=2017.4.17 in c:\\users\\owner\\anaconda3\\envs\\alpacaenv\\lib\\site-packages (from requests<3.0.0,>=2.16.0->web3==5.17) (2022.9.14)\n",
      "Requirement already satisfied: toolz>=0.8.0 in c:\\users\\owner\\anaconda3\\envs\\alpacaenv\\lib\\site-packages (from cytoolz<1.0.0,>=0.10.1->eth-utils<2.0.0,>=1.9.5->web3==5.17) (0.11.2)\n",
      "Collecting eth-rlp<2,>=0.1.2\n",
      "  Using cached eth_rlp-0.2.1-py3-none-any.whl (5.0 kB)\n",
      "Requirement already satisfied: base58 in c:\\users\\owner\\anaconda3\\envs\\alpacaenv\\lib\\site-packages (from multiaddr>=0.0.7->ipfshttpclient==0.7.0a1->web3==5.17) (2.1.1)\n",
      "Requirement already satisfied: netaddr in c:\\users\\owner\\anaconda3\\envs\\alpacaenv\\lib\\site-packages (from multiaddr>=0.0.7->ipfshttpclient==0.7.0a1->web3==5.17) (0.8.0)\n",
      "Requirement already satisfied: varint in c:\\users\\owner\\anaconda3\\envs\\alpacaenv\\lib\\site-packages (from multiaddr>=0.0.7->ipfshttpclient==0.7.0a1->web3==5.17) (1.0.2)\n",
      "Requirement already satisfied: zipp>=0.5 in c:\\users\\owner\\anaconda3\\envs\\alpacaenv\\lib\\site-packages (from importlib-metadata->jsonschema<4.0.0,>=3.2.0->web3==5.17) (3.8.0)\n",
      "Installing collected packages: protobuf, parsimonious, eth-typing, jsonschema, eth-utils, rlp, eth-keys, eth-abi, eth-rlp, eth-keyfile, eth-account, web3\n",
      "Successfully installed eth-abi-2.2.0 eth-account-0.5.9 eth-keyfile-0.5.1 eth-keys-0.3.4 eth-rlp-0.2.1 eth-typing-2.3.0 eth-utils-1.9.5 jsonschema-3.2.0 parsimonious-0.8.1 protobuf-3.20.3 rlp-2.0.1 web3-5.17.0\n",
      "Note: you may need to restart the kernel to use updated packages.\n"
     ]
    },
    {
     "name": "stderr",
     "output_type": "stream",
     "text": [
      "  WARNING: The script jsonschema.exe is installed in 'C:\\Users\\Owner\\AppData\\Roaming\\Python\\Python37\\Scripts' which is not on PATH.\n",
      "  Consider adding this directory to PATH or, if you prefer to suppress this warning, use --no-warn-script-location.\n",
      "ERROR: pip's dependency resolver does not currently take into account all the packages that are installed. This behaviour is the source of the following dependency conflicts.\n",
      "streamlit 1.23.1 requires typing-extensions<5,>=4.0.1, but you have typing-extensions 3.10.0.2 which is incompatible.\n",
      "altair 5.0.1 requires typing-extensions>=4.0.1; python_version < \"3.11\", but you have typing-extensions 3.10.0.2 which is incompatible.\n"
     ]
    }
   ],
   "source": [
    "pip install web3==5.17 --user"
   ]
  },
  {
   "cell_type": "code",
   "execution_count": 8,
   "id": "e54afe2c-1f80-4f78-a042-7d5513fbb112",
   "metadata": {},
   "outputs": [
    {
     "name": "stdout",
     "output_type": "stream",
     "text": [
      "Requirement already satisfied: eth-tester==0.5.0b3 in c:\\users\\owner\\anaconda3\\envs\\alpacaenv\\lib\\site-packages (0.5.0b3)\n",
      "Requirement already satisfied: eth-keys<0.4.0,>=0.2.1 in c:\\users\\owner\\appdata\\roaming\\python\\python37\\site-packages (from eth-tester==0.5.0b3) (0.3.4)\n",
      "Requirement already satisfied: eth-abi<3.0.0,>=2.0.0b4 in c:\\users\\owner\\appdata\\roaming\\python\\python37\\site-packages (from eth-tester==0.5.0b3) (2.2.0)\n",
      "Requirement already satisfied: rlp<3,>=1.1.0 in c:\\users\\owner\\appdata\\roaming\\python\\python37\\site-packages (from eth-tester==0.5.0b3) (2.0.1)\n",
      "Requirement already satisfied: eth-utils<2.0.0,>=1.4.1 in c:\\users\\owner\\appdata\\roaming\\python\\python37\\site-packages (from eth-tester==0.5.0b3) (1.9.5)\n",
      "Requirement already satisfied: semantic-version<3.0.0,>=2.6.0 in c:\\users\\owner\\anaconda3\\envs\\alpacaenv\\lib\\site-packages (from eth-tester==0.5.0b3) (2.10.0)\n",
      "Requirement already satisfied: eth-typing<3.0.0,>=2.0.0 in c:\\users\\owner\\appdata\\roaming\\python\\python37\\site-packages (from eth-abi<3.0.0,>=2.0.0b4->eth-tester==0.5.0b3) (2.3.0)\n",
      "Requirement already satisfied: parsimonious<0.9.0,>=0.8.0 in c:\\users\\owner\\appdata\\roaming\\python\\python37\\site-packages (from eth-abi<3.0.0,>=2.0.0b4->eth-tester==0.5.0b3) (0.8.1)\n",
      "Requirement already satisfied: cytoolz<1.0.0,>=0.10.1 in c:\\users\\owner\\anaconda3\\envs\\alpacaenv\\lib\\site-packages (from eth-utils<2.0.0,>=1.4.1->eth-tester==0.5.0b3) (0.11.0)\n",
      "Requirement already satisfied: eth-hash<1.0.0,>=0.1.0 in c:\\users\\owner\\anaconda3\\envs\\alpacaenv\\lib\\site-packages (from eth-utils<2.0.0,>=1.4.1->eth-tester==0.5.0b3) (0.5.2)\n",
      "Requirement already satisfied: toolz>=0.8.0 in c:\\users\\owner\\anaconda3\\envs\\alpacaenv\\lib\\site-packages (from cytoolz<1.0.0,>=0.10.1->eth-utils<2.0.0,>=1.4.1->eth-tester==0.5.0b3) (0.11.2)\n",
      "Requirement already satisfied: six>=1.9.0 in c:\\users\\owner\\anaconda3\\envs\\alpacaenv\\lib\\site-packages (from parsimonious<0.9.0,>=0.8.0->eth-abi<3.0.0,>=2.0.0b4->eth-tester==0.5.0b3) (1.16.0)\n",
      "Note: you may need to restart the kernel to use updated packages.\n"
     ]
    }
   ],
   "source": [
    "pip install eth-tester==0.5.0b3"
   ]
  },
  {
   "cell_type": "code",
   "execution_count": 9,
   "id": "6881a1eb-c63c-450c-8d8f-4244366dc68c",
   "metadata": {},
   "outputs": [
    {
     "name": "stdout",
     "output_type": "stream",
     "text": [
      "Collecting streamlit==1.20.0Note: you may need to restart the kernel to use updated packages.\n"
     ]
    },
    {
     "name": "stderr",
     "output_type": "stream",
     "text": [
      "ERROR: Could not install packages due to an OSError: [WinError 32] The process cannot access the file because it is being used by another process: 'c:\\\\users\\\\owner\\\\anaconda3\\\\envs\\\\alpacaenv\\\\scripts\\\\streamlit.exe'\n",
      "Consider using the `--user` option or check the permissions.\n",
      "\n"
     ]
    },
    {
     "name": "stdout",
     "output_type": "stream",
     "text": [
      "\n",
      "  Downloading streamlit-1.20.0-py2.py3-none-any.whl (9.6 MB)\n",
      "     ---------------------------------------- 9.6/9.6 MB 2.1 MB/s eta 0:00:00\n",
      "Requirement already satisfied: blinker>=1.0.0 in c:\\users\\owner\\anaconda3\\envs\\alpacaenv\\lib\\site-packages (from streamlit==1.20.0) (1.6.2)\n",
      "Requirement already satisfied: pandas<2,>=0.25 in c:\\users\\owner\\anaconda3\\envs\\alpacaenv\\lib\\site-packages (from streamlit==1.20.0) (1.3.5)\n",
      "Requirement already satisfied: tornado>=6.0.3 in c:\\users\\owner\\anaconda3\\envs\\alpacaenv\\lib\\site-packages (from streamlit==1.20.0) (6.2)\n",
      "Requirement already satisfied: numpy in c:\\users\\owner\\anaconda3\\envs\\alpacaenv\\lib\\site-packages (from streamlit==1.20.0) (1.21.5)\n",
      "Requirement already satisfied: pyarrow>=4.0 in c:\\users\\owner\\anaconda3\\envs\\alpacaenv\\lib\\site-packages (from streamlit==1.20.0) (12.0.1)\n",
      "Requirement already satisfied: click>=7.0 in c:\\users\\owner\\anaconda3\\envs\\alpacaenv\\lib\\site-packages (from streamlit==1.20.0) (8.0.4)\n",
      "Collecting semver\n",
      "  Downloading semver-3.0.1-py3-none-any.whl (17 kB)\n",
      "Requirement already satisfied: python-dateutil in c:\\users\\owner\\anaconda3\\envs\\alpacaenv\\lib\\site-packages (from streamlit==1.20.0) (2.8.2)\n",
      "Requirement already satisfied: gitpython!=3.1.19 in c:\\users\\owner\\anaconda3\\envs\\alpacaenv\\lib\\site-packages (from streamlit==1.20.0) (3.1.32)\n",
      "Requirement already satisfied: watchdog in c:\\users\\owner\\anaconda3\\envs\\alpacaenv\\lib\\site-packages (from streamlit==1.20.0) (2.1.6)\n",
      "Requirement already satisfied: tzlocal>=1.1 in c:\\users\\owner\\anaconda3\\envs\\alpacaenv\\lib\\site-packages (from streamlit==1.20.0) (4.3.1)\n",
      "Collecting altair<5,>=3.2.0\n",
      "  Downloading altair-4.2.2-py3-none-any.whl (813 kB)\n",
      "     -------------------------------------- 813.6/813.6 kB 2.7 MB/s eta 0:00:00\n",
      "Requirement already satisfied: rich>=10.11.0 in c:\\users\\owner\\anaconda3\\envs\\alpacaenv\\lib\\site-packages (from streamlit==1.20.0) (13.4.2)\n",
      "Requirement already satisfied: validators>=0.2 in c:\\users\\owner\\anaconda3\\envs\\alpacaenv\\lib\\site-packages (from streamlit==1.20.0) (0.20.0)\n",
      "Requirement already satisfied: importlib-metadata>=1.4 in c:\\users\\owner\\anaconda3\\envs\\alpacaenv\\lib\\site-packages (from streamlit==1.20.0) (4.2.0)\n",
      "Requirement already satisfied: pillow>=6.2.0 in c:\\users\\owner\\anaconda3\\envs\\alpacaenv\\lib\\site-packages (from streamlit==1.20.0) (9.2.0)\n",
      "Requirement already satisfied: packaging>=14.1 in c:\\users\\owner\\anaconda3\\envs\\alpacaenv\\lib\\site-packages (from streamlit==1.20.0) (21.3)\n",
      "Requirement already satisfied: toml in c:\\users\\owner\\anaconda3\\envs\\alpacaenv\\lib\\site-packages (from streamlit==1.20.0) (0.10.2)\n",
      "Requirement already satisfied: cachetools>=4.0 in c:\\users\\owner\\anaconda3\\envs\\alpacaenv\\lib\\site-packages (from streamlit==1.20.0) (5.3.1)\n",
      "Requirement already satisfied: protobuf<4,>=3.12 in c:\\users\\owner\\appdata\\roaming\\python\\python37\\site-packages (from streamlit==1.20.0) (3.20.3)\n",
      "Requirement already satisfied: requests>=2.4 in c:\\users\\owner\\anaconda3\\envs\\alpacaenv\\lib\\site-packages (from streamlit==1.20.0) (2.28.1)\n",
      "Requirement already satisfied: pydeck>=0.1.dev5 in c:\\users\\owner\\anaconda3\\envs\\alpacaenv\\lib\\site-packages (from streamlit==1.20.0) (0.8.1b0)\n",
      "Requirement already satisfied: pympler>=0.9 in c:\\users\\owner\\anaconda3\\envs\\alpacaenv\\lib\\site-packages (from streamlit==1.20.0) (1.0.1)\n",
      "Requirement already satisfied: typing-extensions>=3.10.0.0 in c:\\users\\owner\\anaconda3\\envs\\alpacaenv\\lib\\site-packages (from streamlit==1.20.0) (3.10.0.2)\n",
      "Requirement already satisfied: jsonschema>=3.0 in c:\\users\\owner\\appdata\\roaming\\python\\python37\\site-packages (from altair<5,>=3.2.0->streamlit==1.20.0) (3.2.0)\n",
      "Requirement already satisfied: entrypoints in c:\\users\\owner\\anaconda3\\envs\\alpacaenv\\lib\\site-packages (from altair<5,>=3.2.0->streamlit==1.20.0) (0.4)\n",
      "Requirement already satisfied: jinja2 in c:\\users\\owner\\anaconda3\\envs\\alpacaenv\\lib\\site-packages (from altair<5,>=3.2.0->streamlit==1.20.0) (2.11.3)\n",
      "Requirement already satisfied: toolz in c:\\users\\owner\\anaconda3\\envs\\alpacaenv\\lib\\site-packages (from altair<5,>=3.2.0->streamlit==1.20.0) (0.11.2)\n",
      "Requirement already satisfied: colorama in c:\\users\\owner\\anaconda3\\envs\\alpacaenv\\lib\\site-packages (from click>=7.0->streamlit==1.20.0) (0.4.5)\n",
      "Requirement already satisfied: gitdb<5,>=4.0.1 in c:\\users\\owner\\anaconda3\\envs\\alpacaenv\\lib\\site-packages (from gitpython!=3.1.19->streamlit==1.20.0) (4.0.10)\n",
      "Requirement already satisfied: zipp>=0.5 in c:\\users\\owner\\anaconda3\\envs\\alpacaenv\\lib\\site-packages (from importlib-metadata>=1.4->streamlit==1.20.0) (3.8.0)\n",
      "Requirement already satisfied: pyparsing!=3.0.5,>=2.0.2 in c:\\users\\owner\\anaconda3\\envs\\alpacaenv\\lib\\site-packages (from packaging>=14.1->streamlit==1.20.0) (3.0.9)\n",
      "Requirement already satisfied: pytz>=2017.3 in c:\\users\\owner\\anaconda3\\envs\\alpacaenv\\lib\\site-packages (from pandas<2,>=0.25->streamlit==1.20.0) (2022.1)\n",
      "Requirement already satisfied: six>=1.5 in c:\\users\\owner\\anaconda3\\envs\\alpacaenv\\lib\\site-packages (from python-dateutil->streamlit==1.20.0) (1.16.0)\n",
      "Requirement already satisfied: certifi>=2017.4.17 in c:\\users\\owner\\anaconda3\\envs\\alpacaenv\\lib\\site-packages (from requests>=2.4->streamlit==1.20.0) (2022.9.14)\n",
      "Requirement already satisfied: charset-normalizer<3,>=2 in c:\\users\\owner\\anaconda3\\envs\\alpacaenv\\lib\\site-packages (from requests>=2.4->streamlit==1.20.0) (2.0.4)\n",
      "Requirement already satisfied: urllib3<1.27,>=1.21.1 in c:\\users\\owner\\anaconda3\\envs\\alpacaenv\\lib\\site-packages (from requests>=2.4->streamlit==1.20.0) (1.26.11)\n",
      "Requirement already satisfied: idna<4,>=2.5 in c:\\users\\owner\\anaconda3\\envs\\alpacaenv\\lib\\site-packages (from requests>=2.4->streamlit==1.20.0) (3.3)\n",
      "Requirement already satisfied: pygments<3.0.0,>=2.13.0 in c:\\users\\owner\\anaconda3\\envs\\alpacaenv\\lib\\site-packages (from rich>=10.11.0->streamlit==1.20.0) (2.15.1)\n",
      "Collecting typing-extensions>=3.10.0.0\n",
      "  Using cached typing_extensions-4.7.1-py3-none-any.whl (33 kB)\n",
      "Requirement already satisfied: markdown-it-py>=2.2.0 in c:\\users\\owner\\anaconda3\\envs\\alpacaenv\\lib\\site-packages (from rich>=10.11.0->streamlit==1.20.0) (2.2.0)\n",
      "Requirement already satisfied: backports.zoneinfo in c:\\users\\owner\\anaconda3\\envs\\alpacaenv\\lib\\site-packages (from tzlocal>=1.1->streamlit==1.20.0) (0.2.1)\n",
      "Requirement already satisfied: pytz-deprecation-shim in c:\\users\\owner\\anaconda3\\envs\\alpacaenv\\lib\\site-packages (from tzlocal>=1.1->streamlit==1.20.0) (0.1.0.post0)\n",
      "Requirement already satisfied: tzdata in c:\\users\\owner\\anaconda3\\envs\\alpacaenv\\lib\\site-packages (from tzlocal>=1.1->streamlit==1.20.0) (2023.3)\n",
      "Requirement already satisfied: decorator>=3.4.0 in c:\\users\\owner\\anaconda3\\envs\\alpacaenv\\lib\\site-packages (from validators>=0.2->streamlit==1.20.0) (5.1.1)\n",
      "Requirement already satisfied: smmap<6,>=3.0.1 in c:\\users\\owner\\anaconda3\\envs\\alpacaenv\\lib\\site-packages (from gitdb<5,>=4.0.1->gitpython!=3.1.19->streamlit==1.20.0) (5.0.0)\n",
      "Requirement already satisfied: MarkupSafe>=0.23 in c:\\users\\owner\\anaconda3\\envs\\alpacaenv\\lib\\site-packages (from jinja2->altair<5,>=3.2.0->streamlit==1.20.0) (2.0.1)\n",
      "Requirement already satisfied: pyrsistent>=0.14.0 in c:\\users\\owner\\anaconda3\\envs\\alpacaenv\\lib\\site-packages (from jsonschema>=3.0->altair<5,>=3.2.0->streamlit==1.20.0) (0.18.0)\n",
      "Requirement already satisfied: attrs>=17.4.0 in c:\\users\\owner\\anaconda3\\envs\\alpacaenv\\lib\\site-packages (from jsonschema>=3.0->altair<5,>=3.2.0->streamlit==1.20.0) (21.4.0)\n",
      "Requirement already satisfied: setuptools in c:\\users\\owner\\anaconda3\\envs\\alpacaenv\\lib\\site-packages (from jsonschema>=3.0->altair<5,>=3.2.0->streamlit==1.20.0) (63.4.1)\n",
      "Requirement already satisfied: mdurl~=0.1 in c:\\users\\owner\\anaconda3\\envs\\alpacaenv\\lib\\site-packages (from markdown-it-py>=2.2.0->rich>=10.11.0->streamlit==1.20.0) (0.1.2)\n",
      "Installing collected packages: typing-extensions, semver, altair, streamlit\n",
      "  Attempting uninstall: typing-extensions\n",
      "    Found existing installation: typing-extensions 3.10.0.2\n",
      "    Uninstalling typing-extensions-3.10.0.2:\n",
      "      Successfully uninstalled typing-extensions-3.10.0.2\n",
      "  Attempting uninstall: altair\n",
      "    Found existing installation: altair 5.0.1\n",
      "    Uninstalling altair-5.0.1:\n",
      "      Successfully uninstalled altair-5.0.1\n",
      "  Attempting uninstall: streamlit\n",
      "    Found existing installation: streamlit 1.23.1\n",
      "    Uninstalling streamlit-1.23.1:\n"
     ]
    }
   ],
   "source": [
    "pip install streamlit==1.20.0"
   ]
  },
  {
   "cell_type": "code",
   "execution_count": null,
   "id": "3ccbfad0-52b7-46c4-9013-e32b37008969",
   "metadata": {},
   "outputs": [],
   "source": []
  }
 ],
 "metadata": {
  "kernelspec": {
   "display_name": "Python 3 (ipykernel)",
   "language": "python",
   "name": "python3"
  },
  "language_info": {
   "codemirror_mode": {
    "name": "ipython",
    "version": 3
   },
   "file_extension": ".py",
   "mimetype": "text/x-python",
   "name": "python",
   "nbconvert_exporter": "python",
   "pygments_lexer": "ipython3",
   "version": "3.7.13"
  }
 },
 "nbformat": 4,
 "nbformat_minor": 5
}
